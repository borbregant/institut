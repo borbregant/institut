{
 "cells": [
  {
   "attachments": {},
   "cell_type": "markdown",
   "metadata": {},
   "source": [
    "# Priprava podatkov"
   ]
  },
  {
   "cell_type": "code",
   "execution_count": 84,
   "metadata": {},
   "outputs": [],
   "source": [
    "import numpy as np\n",
    "import pandas as pd"
   ]
  },
  {
   "attachments": {},
   "cell_type": "markdown",
   "metadata": {},
   "source": [
    "Preberemo datoteko"
   ]
  },
  {
   "cell_type": "code",
   "execution_count": 85,
   "metadata": {},
   "outputs": [],
   "source": [
    "xls = pd.ExcelFile(r'IJS_database_anonimized.xlsx')\n",
    "sheet1 = xls.parse(0)\n",
    "sheet2 = xls.parse(1)\n",
    "sheet3 = xls.parse(2)\n",
    "\n",
    "frames = [sheet1, sheet2, sheet3]\n",
    "df = pd.concat(frames)"
   ]
  },
  {
   "attachments": {},
   "cell_type": "markdown",
   "metadata": {},
   "source": [
    "Izračunamo starost"
   ]
  },
  {
   "cell_type": "code",
   "execution_count": 86,
   "metadata": {},
   "outputs": [],
   "source": [
    "from datetime import datetime\n",
    "#tu bomo uredili stolpce relevantne za starost pri posegu in slednje izračunali\n",
    "\n",
    "df.rename(columns = {'Datum rojstva':'Datum_rojstva'}, inplace = True)  \n",
    "df.rename(columns = {'Datum posega':'Datum_posega'}, inplace = True) \n",
    "df.at[0,'Datum_rojstva'] = \"29.4.1948\"\n",
    "df['Datum_rojstva'] = df['Datum_rojstva'].str.replace(\" \", \"\")\n",
    "df['Datum_posega'] = df['Datum_posega'].str.replace(\" \", \"\")\n",
    "\n",
    "\n",
    "\n",
    "def calculate_age(datum_rojstva, datum_posega):\n",
    "    datum_rojstva = datetime.strptime(datum_rojstva, \"%d.%m.%Y\").date()\n",
    "    datum_posega = datetime.strptime(datum_posega, \"%d.%m.%Y\").date()\n",
    "    return datum_posega.year - datum_rojstva.year - ((datum_posega.month, datum_posega.day) < (datum_rojstva.month, datum_rojstva.day))\n",
    "\n",
    "\n",
    "df['starost'] = df.apply(lambda x: calculate_age(x.Datum_rojstva, x.Datum_posega), axis=1)\n",
    "\n",
    "df.drop('Datum_posega', axis=1, inplace=True)\n",
    "df.drop('Datum_rojstva', axis=1, inplace=True)"
   ]
  },
  {
   "attachments": {},
   "cell_type": "markdown",
   "metadata": {},
   "source": [
    "Stolpce, kjer manjka več kot petina podatkov izbrišemo"
   ]
  },
  {
   "cell_type": "code",
   "execution_count": 87,
   "metadata": {},
   "outputs": [
    {
     "name": "stdout",
     "output_type": "stream",
     "text": [
      "Tarčna stena 0.3\n",
      "IVS 0.29\n",
      "ALT 0.78\n",
      "bilirubin (dir) 0.88\n",
      "Način TX 0.76\n",
      "urat 0.47\n",
      "LDL 0.2\n",
      "Fe 0.47\n",
      "EDV 0.35\n",
      "ESV 0.37\n",
      "L 0.24\n",
      "Hb 0.24\n",
      "feritin 0.42\n",
      "TRC 0.24\n",
      "RDW 0.24\n",
      "Komentar kontrole 0.24\n"
     ]
    }
   ],
   "source": [
    "manjkajoce = df.isnull().sum()\n",
    "\n",
    "meja = 0.2\n",
    "counter = 0 #steje koliko stolpcev smo pometali ven\n",
    "for col in df.columns:\n",
    "    if manjkajoce[col] > 0:\n",
    "        if manjkajoce[col] < len(df)*meja:\n",
    "            pass\n",
    "        else:\n",
    "            print(col, round(manjkajoce[col]/len(df[col]),2))\n",
    "            df.drop(col, axis=1, inplace=True)\n",
    "            counter += 1\n",
    "    \n",
    "#print(df.isnull().sum())"
   ]
  },
  {
   "attachments": {},
   "cell_type": "markdown",
   "metadata": {},
   "source": [
    "Dodamo še tip ultrazvoka (cifra_excela)"
   ]
  },
  {
   "cell_type": "code",
   "execution_count": 88,
   "metadata": {},
   "outputs": [
    {
     "name": "stderr",
     "output_type": "stream",
     "text": [
      "C:\\Users\\borbr\\AppData\\Local\\Temp\\ipykernel_5684\\4232662959.py:3: FutureWarning: The default dtype for empty Series will be 'object' instead of 'float64' in a future version. Specify a dtype explicitly to silence this warning.\n",
      "  cifra_excela = pd.Series([])\n"
     ]
    }
   ],
   "source": [
    "#dodajmo tabeli še stolpec iz katerega lista (excel sheet) je bil podatek prvotno\n",
    "df.columns = ['cifra_pacienta',\"spol\",\"glavna_diagnoza\",\"responder\",\"ef\",\"lvedd\",\"vti\",\"Na\",\"K\",\"secnina\",\"kreatinin\",\"ast\",\"AF\",\"gGT\",\"bilirubin_cel\",\"pro_BNP\",\"CRP\",\"razdalja\",\"holesterol\",\"HDL\",\"trigliceridi\",\"glukoza\",\"starost\"]\n",
    "cifra_excela = pd.Series([])\n",
    "df = df.reset_index()\n",
    "\n",
    "for i in range(len(df)):\n",
    "    if df[\"cifra_pacienta\"][i] in range(1,30):\n",
    "        cifra_excela[i]=1\n",
    " \n",
    "    elif df[\"cifra_pacienta\"][i] in range(30,58):\n",
    "        cifra_excela[i]=2\n",
    "    \n",
    "    else:\n",
    "        cifra_excela[i]=3\n",
    "\n",
    "df.insert(2, \"cifra_excela\", cifra_excela)"
   ]
  },
  {
   "cell_type": "code",
   "execution_count": 89,
   "metadata": {},
   "outputs": [],
   "source": [
    "df.drop(df.filter(regex=\"Unname\"),axis=1, inplace=True)\n",
    "df.drop(df.filter(regex=\"cifra_pacienta\"),axis=1, inplace=True) # znebimo se še unnamed index stolpca\n",
    "df.drop(df.filter(regex=\"index\"),axis=1, inplace=True) # indeks pride od drugacnih listov (vsak list posebej zacne stevilciti) in ni pomemben"
   ]
  },
  {
   "attachments": {},
   "cell_type": "markdown",
   "metadata": {},
   "source": [
    "Kategoricne damo v 0 1"
   ]
  },
  {
   "cell_type": "code",
   "execution_count": 90,
   "metadata": {},
   "outputs": [],
   "source": [
    "df_one = pd.get_dummies(df[\"spol\"])\n",
    "df_two = pd.concat((df_one, df), axis=1)\n",
    "df_two = df_two.drop([\"spol\"], axis=1)\n",
    "df_two = df_two.drop([\"M\"], axis=1)\n",
    "df = df_two.rename(columns={\"Ž\": \"spol\"})\n",
    "\n",
    "df_one = pd.get_dummies(df[\"glavna_diagnoza\"])\n",
    "df_two = pd.concat((df_one, df), axis=1)\n",
    "df_two = df_two.drop([\"glavna_diagnoza\"], axis=1)\n",
    "df_two = df_two.drop([\"Neishemična KMP\"], axis=1)\n",
    "df = df_two.rename(columns={\"Ishemična KMP\": \"glavna_diagnoza\"})"
   ]
  },
  {
   "attachments": {},
   "cell_type": "markdown",
   "metadata": {},
   "source": [
    "Koliko vrstic smo pometali ven (ce manjka vec kot petina podatkov)"
   ]
  },
  {
   "cell_type": "code",
   "execution_count": 91,
   "metadata": {},
   "outputs": [
    {
     "name": "stdout",
     "output_type": "stream",
     "text": [
      "0.07\n",
      "0.41\n"
     ]
    }
   ],
   "source": [
    "vse_vrstice = df.shape[0]\n",
    "df = df[df.isnull().sum(axis=1) < 0.2 * len(df.columns)]\n",
    "nove_vrstice = df.shape[0]\n",
    "print(round(((vse_vrstice - nove_vrstice) / vse_vrstice),2))\n",
    "\n",
    "#Koliko stolpcev smo pometali ven\n",
    "print(round(((counter) / (len(df.columns)+counter)),2))"
   ]
  },
  {
   "cell_type": "code",
   "execution_count": 92,
   "metadata": {},
   "outputs": [],
   "source": [
    "df.to_excel(\"data.xlsx\")"
   ]
  }
 ],
 "metadata": {
  "kernelspec": {
   "display_name": "Python 3",
   "language": "python",
   "name": "python3"
  },
  "language_info": {
   "codemirror_mode": {
    "name": "ipython",
    "version": 3
   },
   "file_extension": ".py",
   "mimetype": "text/x-python",
   "name": "python",
   "nbconvert_exporter": "python",
   "pygments_lexer": "ipython3",
   "version": "3.11.2"
  },
  "orig_nbformat": 4
 },
 "nbformat": 4,
 "nbformat_minor": 2
}
